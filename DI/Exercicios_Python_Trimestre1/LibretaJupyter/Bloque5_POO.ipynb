{
 "cells": [
  {
   "cell_type": "markdown",
   "id": "a0e34ee0-42e3-45fb-a868-788af4c4b4b5",
   "metadata": {},
   "source": [
    "## <b>Bloque 5 POO</b>"
   ]
  },
  {
   "cell_type": "raw",
   "id": "50693fdb-fb09-44bc-bb93-7a49fb84e4fd",
   "metadata": {},
   "source": [
    "1. Crear dos clases, Libro y Autor, que estén relacionadas. La clase Libro debe tener un atributo\n",
    "autor, que sea una instancia de la clase Autor.\n",
    "Cuando se muestre por pantalla el libro se deben mostrar los 3 datos."
   ]
  },
  {
   "cell_type": "code",
   "execution_count": 1,
   "id": "5cc9d4a0-f103-4b60-9b20-0b6dbe53769d",
   "metadata": {
    "tags": []
   },
   "outputs": [
    {
     "name": "stdout",
     "output_type": "stream",
     "text": [
      "Autor: Juan || Titulo: Titulo Ejemplo || Precio: 15eur\n"
     ]
    }
   ],
   "source": [
    "class Autor:\n",
    "    def __init__(self,nombre,nacionalidad):\n",
    "        self.nombre = nombre\n",
    "        self.nacionalidad = nacionalidad\n",
    "\n",
    "\n",
    "\n",
    "class Libro:\n",
    "    autor : Autor\n",
    "\n",
    "    def __init__(self,autor,titulo,precio):\n",
    "        self.autor = autor\n",
    "        self.titulo = titulo\n",
    "        self.precio = precio\n",
    "\n",
    "    def __str__(self):\n",
    "       return f\"Autor: {self.autor.nombre} || Titulo: {self.titulo} || Precio: {self.precio}\"\n",
    "\n",
    "    \n",
    "def main():\n",
    "    autor = Autor(\"Juan\",\"Argentina\")\n",
    "\n",
    "    libro = Libro(autor,\"Titulo Ejemplo\",\"15eur\")\n",
    "\n",
    "    print(libro)\n",
    "\n",
    "if __name__ == \"__main__\":\n",
    "    main()"
   ]
  },
  {
   "cell_type": "markdown",
   "id": "b35d3ac5-17e1-4a25-844a-143e8039e2ac",
   "metadata": {},
   "source": [
    "---"
   ]
  },
  {
   "cell_type": "raw",
   "id": "adbeccd7-81d6-4cb5-a556-f8c7fdd8fa20",
   "metadata": {},
   "source": [
    "2. Crear una clas CuentaBancaria que tenga atributos como titular, saldo y\n",
    "dos método para depositar y retirar dinero. Si no tiene saldo debe mostrar el\n",
    "mensaje “saldo insuficiente”. Establece un menú"
   ]
  },
  {
   "cell_type": "code",
   "execution_count": 2,
   "id": "2fca0dd2-f8ef-43e8-8d39-d509e0cdeb80",
   "metadata": {
    "tags": []
   },
   "outputs": [
    {
     "name": "stdin",
     "output_type": "stream",
     "text": [
      "Introduzca una opción: 0-> Salir, 1->Depositar, 2->Retirar ...  1\n",
      "Introduza a cantidad a depositar:  100\n"
     ]
    },
    {
     "name": "stdout",
     "output_type": "stream",
     "text": [
      "Teu saldo: 300\n"
     ]
    },
    {
     "name": "stdin",
     "output_type": "stream",
     "text": [
      "Introduzca una opción: 0-> Salir, 1->Depositar, 2->Retirar ...  2\n",
      "Introduza a cantidad a depositar:  200\n"
     ]
    },
    {
     "name": "stdout",
     "output_type": "stream",
     "text": [
      "Teu saldo: 100\n"
     ]
    },
    {
     "name": "stdin",
     "output_type": "stream",
     "text": [
      "Introduzca una opción: 0-> Salir, 1->Depositar, 2->Retirar ...  2\n",
      "Introduza a cantidad a depositar:  200\n"
     ]
    },
    {
     "name": "stdout",
     "output_type": "stream",
     "text": [
      "Saldo Insuficiente.\n"
     ]
    },
    {
     "name": "stdin",
     "output_type": "stream",
     "text": [
      "Introduzca una opción: 0-> Salir, 1->Depositar, 2->Retirar ...  0\n"
     ]
    }
   ],
   "source": [
    "class CuentaBancaria:\n",
    "    def __init__(self,titular,saldo):\n",
    "        self.titular = titular\n",
    "        self.saldo = saldo\n",
    "\n",
    "    def depositar(self, cantidad):\n",
    "        self.saldo += cantidad\n",
    "\n",
    "        print(f\"Teu saldo: {self.saldo}\")\n",
    "    \n",
    "    def retirar(self, cantidad):\n",
    "        \n",
    "        if cantidad < self.saldo:\n",
    "            self.saldo -= cantidad\n",
    "\n",
    "            print(f\"Teu saldo: {self.saldo}\")\n",
    "\n",
    "        else:\n",
    "            print(\"Saldo Insuficiente.\")\n",
    "\n",
    "def main():\n",
    "    c1 = CuentaBancaria(\"Usuario\",200)\n",
    "\n",
    "    salir = False\n",
    "\n",
    "    while not salir:\n",
    "\n",
    "        opt = input(\"Introduzca una opción: 0-> Salir, 1->Depositar, 2->Retirar ... \")\n",
    "\n",
    "        if opt == '0':\n",
    "            salir = True\n",
    "        elif opt == '1':\n",
    "            cantidad = int(input(\"Introduza a cantidad a depositar: \"))\n",
    "\n",
    "            c1.depositar(cantidad)\n",
    "        \n",
    "        elif opt == '2':\n",
    "            cantidad = int(input(\"Introduza a cantidad a depositar: \"))\n",
    "\n",
    "            c1.retirar(cantidad)\n",
    "\n",
    "        else:\n",
    "            print(\"Opcion non valida.\")\n",
    "        \n",
    "if __name__ == '__main__':\n",
    "    main()"
   ]
  },
  {
   "cell_type": "markdown",
   "id": "4fdf10e3-b04c-47c4-95ba-84e468f3c3b4",
   "metadata": {},
   "source": [
    "---"
   ]
  },
  {
   "cell_type": "raw",
   "id": "2554ba98-fb5b-4fff-a7a8-3fe255e691d5",
   "metadata": {},
   "source": [
    "3. Diseña una agenda de contacto con una clase Contacto que represente a una\n",
    "persona con atributos como nombre, dirección de correo electrónico y número de\n",
    "teléfono. Luego, crea una clase Agenda que almacene una lista de contactos y\n",
    "ofrezca métodos para agregar, eliminar y buscar contactos (en un fichero .txt). Utiliza\n",
    "encapsulamiento para proteger los datos de contacto. Establece un menú."
   ]
  },
  {
   "cell_type": "code",
   "execution_count": null,
   "id": "ff832179-77a8-4e55-961a-05370d9fc204",
   "metadata": {},
   "outputs": [],
   "source": []
  },
  {
   "cell_type": "markdown",
   "id": "efda2990-063b-468d-ad5b-5d9b4b1e37d7",
   "metadata": {},
   "source": [
    "---"
   ]
  },
  {
   "cell_type": "raw",
   "id": "d43ea564-874c-4f9b-be97-a0686a225cad",
   "metadata": {},
   "source": [
    "4.  Diseña un sistema de clases para simular una tienda. Debes tener clases\n",
    "para representar productos, carritos de compra y clientes. Los productos\n",
    "deben tener atributos como nombre, precio y cantidad en stock. Los\n",
    "clientes deben poder agregar productos a su carrito de compra y realizar\n",
    "compras. El carrito de compra debe mantener un registro de los productos\n",
    "y calcular el total de la compra"
   ]
  },
  {
   "cell_type": "raw",
   "id": "3f751c3a-59b6-43a1-a543-608066ffe06f",
   "metadata": {},
   "source": [
    ">> Prueba sin ficheros ni menú:"
   ]
  },
  {
   "cell_type": "code",
   "execution_count": 3,
   "id": "4e5c2db3-9f9f-48f1-9bb8-26c60d1b7570",
   "metadata": {
    "tags": []
   },
   "outputs": [
    {
     "name": "stdout",
     "output_type": "stream",
     "text": [
      "Nombre // 123456789\n"
     ]
    }
   ],
   "source": [
    "class Contacto:\n",
    "    def __init__(self,nombre,correo,numero):\n",
    "        self.nombre = nombre\n",
    "        self.correo = correo\n",
    "        self.numero = numero\n",
    "\n",
    "    def __str__(self):\n",
    "        return f\"{self.nombre} // {self.numero}\"\n",
    "\n",
    "class Agenda:\n",
    "\n",
    "    def __init__(self):\n",
    "        self.contactos = []\n",
    "\n",
    "    def agregar(self,contacto):\n",
    "        self.contactos.append(contacto)\n",
    "\n",
    "    def buscar(self,nombre):\n",
    "        for i in self.contactos:\n",
    "            if i.nombre == nombre:\n",
    "                return i\n",
    "\n",
    "    def eliminar(self,nombre):\n",
    "        self.contactos.pop(self.buscar(nombre))\n",
    "\n",
    "\n",
    "def main():\n",
    "    user1 = Contacto(\"Nombre\",\"correo\",\"123456789\")\n",
    "\n",
    "    agenda = Agenda()\n",
    "\n",
    "    agenda.agregar(user1)\n",
    "\n",
    "    print(agenda.buscar(\"Nombre\"))\n",
    "\n",
    "if __name__ == '__main__':\n",
    "    main()\n"
   ]
  },
  {
   "cell_type": "raw",
   "id": "978e0fea-645c-4d5f-a48e-20406519161e",
   "metadata": {},
   "source": [
    ">>> Con menú pero sin .txt"
   ]
  },
  {
   "cell_type": "code",
   "execution_count": 4,
   "id": "78375d8a-30bb-4c29-a116-763b67794300",
   "metadata": {
    "tags": []
   },
   "outputs": [
    {
     "name": "stdin",
     "output_type": "stream",
     "text": [
      "Introduzca una opción: 0-> Salir, 1->Agregar, 2->Eliminar, 3->Buscar ...  1\n",
      "Introduza el nombre:  Usuario\n",
      "Introduzca el correo:  correo@gmail.com\n",
      "Introduzca el numero:  34642909871\n",
      "Introduzca una opción: 0-> Salir, 1->Agregar, 2->Eliminar, 3->Buscar ...  3\n",
      "Introduzca el nombre:  Usuario\n"
     ]
    },
    {
     "name": "stdout",
     "output_type": "stream",
     "text": [
      "Su usuario es: Usuario // 34642909871\n"
     ]
    },
    {
     "name": "stdin",
     "output_type": "stream",
     "text": [
      "Introduzca una opción: 0-> Salir, 1->Agregar, 2->Eliminar, 3->Buscar ...  2\n",
      "Introduzca el nombre:  Usuario\n",
      "Introduzca una opción: 0-> Salir, 1->Agregar, 2->Eliminar, 3->Buscar ...  3\n",
      "Introduzca el nombre:  Usuario\n"
     ]
    },
    {
     "name": "stdout",
     "output_type": "stream",
     "text": [
      "Su usuario es: None\n"
     ]
    },
    {
     "name": "stdin",
     "output_type": "stream",
     "text": [
      "Introduzca una opción: 0-> Salir, 1->Agregar, 2->Eliminar, 3->Buscar ...  0\n"
     ]
    }
   ],
   "source": [
    "class Contacto:\n",
    "    def __init__(self,nombre,correo,numero):\n",
    "        self.nombre = nombre\n",
    "        self.correo = correo\n",
    "        self.numero = numero\n",
    "\n",
    "    def __str__(self):\n",
    "        return f\"{self.nombre} // {self.numero}\"\n",
    "\n",
    "class Agenda:\n",
    "\n",
    "    def __init__(self):\n",
    "        self.contactos = []\n",
    "\n",
    "    def agregar(self,contacto):\n",
    "        self.contactos.append(contacto)\n",
    "\n",
    "    def buscar(self,nombre):\n",
    "        for i in self.contactos:\n",
    "            if i.nombre == nombre:\n",
    "                return i\n",
    "\n",
    "    def eliminar(self,nombre):\n",
    "        self.contactos.remove(self.buscar(nombre))\n",
    "\n",
    "\n",
    "def main():\n",
    "\n",
    "    agenda = Agenda()\n",
    "\n",
    "    salir = False\n",
    "\n",
    "    while not salir:\n",
    "\n",
    "        opt = input(\"Introduzca una opción: 0-> Salir, 1->Agregar, 2->Eliminar, 3->Buscar ... \")\n",
    "\n",
    "        if opt == '0':\n",
    "\n",
    "            salir = True\n",
    "        \n",
    "        elif opt == '1':\n",
    "\n",
    "            nombre = input(\"Introduza el nombre: \")\n",
    "            correo = input(\"Introduzca el correo: \")\n",
    "            numero = input(\"Introduzca el numero: \")\n",
    "\n",
    "            agenda.agregar(Contacto(nombre,correo,numero))\n",
    "\n",
    "        elif opt == '2':\n",
    "\n",
    "            nombre = input(\"Introduzca el nombre: \")\n",
    "\n",
    "            agenda.eliminar(nombre)\n",
    "\n",
    "        elif opt == '3':\n",
    "\n",
    "            nombre = input(\"Introduzca el nombre: \")\n",
    "\n",
    "            print(f\"Su usuario es: {agenda.buscar(nombre)}\")\n",
    "\n",
    "        else:\n",
    "\n",
    "            print(\"Opcion no válida\")\n",
    "\n",
    "\n",
    "if __name__ == '__main__':\n",
    "    main()\n"
   ]
  },
  {
   "cell_type": "markdown",
   "id": "fbf52e1f-f1ef-403a-b3b8-39d7c5a8d675",
   "metadata": {},
   "source": [
    "---"
   ]
  },
  {
   "cell_type": "raw",
   "id": "a392ea1c-b629-4b04-b385-7cff866ff1b6",
   "metadata": {},
   "source": [
    "5. Crear una clase base llamada Vehiculo, que tiene atributos comunes como marca,\n",
    "modelo, año y precio. Luego, creamos dos clases derivadas, Coche y Motocicleta, que\n",
    "heredan de la clase base Vehiculo y agregan atributos adicionales específicos para cada\n",
    "tipo de vehículo (puertas y cilindrada).\n",
    "Cada clase derivada tiene su propio método obtener_informacion, que llama al método\n",
    "de la clase base obtener_informacion utilizando super() y luego agrega la información\n",
    "específica del tipo de vehículo. Esto demuestra cómo se puede utilizar la herencia para\n",
    "reutilizar y extender funcionalidad en una jerarquía de clases"
   ]
  },
  {
   "cell_type": "code",
   "execution_count": null,
   "id": "172ef026-1592-4acf-830c-c9c502fa1c6a",
   "metadata": {},
   "outputs": [],
   "source": []
  },
  {
   "cell_type": "markdown",
   "id": "c9ce9a8b-a64b-40d1-9ff0-4d719d23bc2a",
   "metadata": {},
   "source": [
    "---"
   ]
  },
  {
   "cell_type": "raw",
   "id": "32bbb7c2-ea16-450f-8c99-258d67c25087",
   "metadata": {},
   "source": [
    "6. Crear un personaje que puede luchar contra enemigos. En este juego, el jugador tiene un\n",
    "personaje con estadísticas y puede elegir luchar contra enemigos aleatorios. El objetivo es derrotar a\n",
    "los enemigos y ganar experiencia.\n",
    "Este juego permite a un jugador controlar a un personaje que lucha contra enemigos\n",
    "aleatorios. El jugador puede atacar o huir durante los encuentros. El juego sigue hasta que\n",
    "el personaje o todos los enemigos sean derrotados. Si el personaje gana suficiente\n",
    "experiencia, se considera que ha ganado el juego. Puedes personalizar los nombres y las\n",
    "estadísticas de los personajes y enemigos para hacer el juego más interesante."
   ]
  },
  {
   "cell_type": "code",
   "execution_count": null,
   "id": "b9f956b4-b655-4a5f-bd42-1909f284f4b8",
   "metadata": {},
   "outputs": [],
   "source": []
  },
  {
   "cell_type": "markdown",
   "id": "9fe2c637-23b2-423a-92f0-56120626c37d",
   "metadata": {},
   "source": [
    "---"
   ]
  },
  {
   "cell_type": "markdown",
   "id": "f3d83a1c-8e12-4009-9248-8672b7bc8195",
   "metadata": {},
   "source": [
    "###### Feito por @XoanOuteiro"
   ]
  }
 ],
 "metadata": {
  "kernelspec": {
   "display_name": "Python 3 (ipykernel)",
   "language": "python",
   "name": "python3"
  },
  "language_info": {
   "codemirror_mode": {
    "name": "ipython",
    "version": 3
   },
   "file_extension": ".py",
   "mimetype": "text/x-python",
   "name": "python",
   "nbconvert_exporter": "python",
   "pygments_lexer": "ipython3",
   "version": "3.11.3"
  }
 },
 "nbformat": 4,
 "nbformat_minor": 5
}
