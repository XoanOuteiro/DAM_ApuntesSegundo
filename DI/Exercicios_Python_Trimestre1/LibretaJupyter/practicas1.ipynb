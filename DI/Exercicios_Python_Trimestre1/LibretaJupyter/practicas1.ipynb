{
 "cells": [
  {
   "cell_type": "markdown",
   "id": "c5becf52-1aec-4ee0-bf39-da8356294ab9",
   "metadata": {
    "tags": []
   },
   "source": [
    "## <b> Bloque 1 de ejercicios Python </b>"
   ]
  },
  {
   "cell_type": "raw",
   "id": "1384806d-e90b-45ec-91cc-01592dff391d",
   "metadata": {},
   "source": [
    "1. Escribir un programa que almacene a\n",
    "cadea ¡Hola Mundo! nunha variable e logo\n",
    "mostre por pantalla o contido da variable."
   ]
  },
  {
   "cell_type": "code",
   "execution_count": 2,
   "id": "35fac84a-d6a3-4343-b818-294f206fe603",
   "metadata": {
    "tags": []
   },
   "outputs": [
    {
     "name": "stdout",
     "output_type": "stream",
     "text": [
      "¡Hola Mundo!\n"
     ]
    }
   ],
   "source": [
    "content = \"¡Hola Mundo!\"\n",
    "print(content)"
   ]
  },
  {
   "cell_type": "markdown",
   "id": "934a7935-6fc7-4b8a-a100-c7863fc8a2aa",
   "metadata": {},
   "source": [
    "---"
   ]
  },
  {
   "cell_type": "raw",
   "id": "b17bcee0-c119-4e9d-9026-446a7929f2b9",
   "metadata": {},
   "source": [
    "2. Escribir un programa que pregunte ao usuario polo\n",
    "número de horas traballadas e o coste por hora en € con\n",
    "dous decimais. Despois debe mostrar por pantalla a paga\n",
    "que lle corresponde na mesma condición."
   ]
  },
  {
   "cell_type": "code",
   "execution_count": 8,
   "id": "b6181374-bd19-48ff-a139-a53a0196996b",
   "metadata": {
    "tags": []
   },
   "outputs": [
    {
     "name": "stdin",
     "output_type": "stream",
     "text": [
      "Introduza o de número horas traballadas:  200\n",
      "Informe o salario por hora:  12.6\n"
     ]
    },
    {
     "name": "stdout",
     "output_type": "stream",
     "text": [
      "A súa paga será: 2520.00\n"
     ]
    }
   ],
   "source": [
    "nhours = int(input(\"Introduza o de número horas traballadas: \"))\n",
    "salario_hora = float (input (\"Informe o salario por hora: \"))\n",
    "\n",
    "total = float(nhours * salario_hora)\n",
    "print(f\"A súa paga será: {total:.2f}\") #ou round(total,2)"
   ]
  },
  {
   "cell_type": "markdown",
   "id": "101a3d73-672a-45ac-b536-1740c0c5b0e9",
   "metadata": {},
   "source": [
    "---"
   ]
  },
  {
   "cell_type": "raw",
   "id": "a01c10dc-d3f5-41ec-8bcf-9da658a65143",
   "metadata": {},
   "source": [
    "3. Dados unha cifra en segundos fai a\n",
    "transformación en horas, minutos e\n",
    "segundos."
   ]
  },
  {
   "cell_type": "code",
   "execution_count": 4,
   "id": "cab705dc-9530-45f3-b04b-bdd8f581d808",
   "metadata": {
    "tags": []
   },
   "outputs": [
    {
     "name": "stdin",
     "output_type": "stream",
     "text": [
      "Introduza o numero de segundos:  12600\n"
     ]
    },
    {
     "name": "stdout",
     "output_type": "stream",
     "text": [
      "12600seg = 3hr:30min:0s\n"
     ]
    }
   ],
   "source": [
    "iseg = int(input(\"Introduza o numero de segundos: \"))\n",
    "\n",
    "horas = iseg // 3600\n",
    "seg = iseg % 3600\n",
    "min = seg // 60\n",
    "seg %= 60\n",
    "\n",
    "print(f\"{iseg}seg = {horas}hr:{min}min:{seg}s\")"
   ]
  },
  {
   "cell_type": "markdown",
   "id": "ccd83197-fdd3-4011-b764-d15c83894eb2",
   "metadata": {},
   "source": [
    "---"
   ]
  },
  {
   "cell_type": "raw",
   "id": "ededc51e-f308-43ca-afe0-16048630e6f2",
   "metadata": {},
   "source": [
    "3_2. Repite o exercicio de\n",
    "forma inversa, dada unha cifra en\n",
    "horas, minutos e segundos,\n",
    "transforma en segundos. "
   ]
  },
  {
   "cell_type": "code",
   "execution_count": 5,
   "id": "f03b05bf-594c-4605-b42c-9cbe42b7aab3",
   "metadata": {
    "tags": []
   },
   "outputs": [
    {
     "name": "stdin",
     "output_type": "stream",
     "text": [
      "Introduza o numero de horas:  3\n",
      "Introduza o numero de minutos:  30\n",
      "Introduza o numero de segundos:  0\n"
     ]
    },
    {
     "name": "stdout",
     "output_type": "stream",
     "text": [
      "3hr:30min:0s = 12600s\n"
     ]
    }
   ],
   "source": [
    "hora = int(input(\"Introduza o numero de horas: \"))\n",
    "min = int(input(\"Introduza o numero de minutos: \"))\n",
    "seg = int(input(\"Introduza o numero de segundos: \"))\n",
    "\n",
    "total_seg= (hora*3600)+(min*60)+seg\n",
    "\n",
    "print(f\"{hora}hr:{min}min:{seg}s = {total_seg}s\")"
   ]
  },
  {
   "cell_type": "markdown",
   "id": "b72365f1-6714-4b80-be3e-77fbaa5ba956",
   "metadata": {},
   "source": [
    "---"
   ]
  },
  {
   "cell_type": "raw",
   "id": "7d8a2ad9-7120-48de-b5cf-344b32a7e3fb",
   "metadata": {},
   "source": [
    "4. Escribir un programa que lle pida ao usuario seu peso (en\n",
    "kg) e estatura (en metros), calcule o índice de masa\n",
    "corporal e o almacene nunha variable <imc> mostrando\n",
    "por pantalla a frase: Teu índice de masa corporal é <imc>,\n",
    "con dos decimales. "
   ]
  },
  {
   "cell_type": "code",
   "execution_count": 7,
   "id": "25e4bae9-fbff-41be-aa5c-59e1d8c48098",
   "metadata": {
    "tags": []
   },
   "outputs": [
    {
     "name": "stdin",
     "output_type": "stream",
     "text": [
      "Introduza seu peso en Kg:  70\n",
      "Introduza a sua estatura en metros:  1.83\n"
     ]
    },
    {
     "name": "stdout",
     "output_type": "stream",
     "text": [
      "Teu índice de masa corporal é 20.9\n"
     ]
    }
   ],
   "source": [
    "kg = float(input(\"Introduza seu peso en Kg: \"))\n",
    "hm = float(input(\"Introduza a sua estatura en metros: \"))\n",
    "\n",
    "imc = kg/(hm**2) #imc = peso/altura^2\n",
    "\n",
    "print(f\"Teu índice de masa corporal é {round(imc,2)}\")"
   ]
  },
  {
   "cell_type": "markdown",
   "id": "af325487-0a30-4458-b65a-e85bdd941d84",
   "metadata": {},
   "source": [
    "---"
   ]
  },
  {
   "cell_type": "raw",
   "id": "5ea291b1-87e1-4817-a802-a6324f4adc5f",
   "metadata": {},
   "source": [
    "5. Escribe un programa que solicite la fecha de\n",
    "nacimiento de un usuario y calcule su edad actual."
   ]
  },
  {
   "cell_type": "code",
   "execution_count": 9,
   "id": "d325a01f-1e4c-4051-bab0-7fdf1a95fdf8",
   "metadata": {
    "tags": []
   },
   "outputs": [
    {
     "name": "stdin",
     "output_type": "stream",
     "text": [
      "Introduza ano de nacemento:  1999\n",
      "Introduza mes de nacemento:  07\n",
      "Introduza dia de nacemento:  21\n"
     ]
    },
    {
     "name": "stdout",
     "output_type": "stream",
     "text": [
      "Tes 23 anos\n"
     ]
    }
   ],
   "source": [
    "from datetime import datetime\n",
    "\n",
    "#declaramos as variables onde gardaremos os datos finais\n",
    "fyears = 0\n",
    "fmonths = 0\n",
    "fdays = 0\n",
    "\n",
    "#solicitamos a data de nacemento do usuario\n",
    "ano = int(input(\"Introduza ano de nacemento: \"))\n",
    "mes = int(input(\"Introduza mes de nacemento: \"))\n",
    "dia = int(input(\"Introduza dia de nacemento: \"))\n",
    "\n",
    "#pedimos a data actual\n",
    "hoxe = datetime.now()\n",
    "\n",
    "#realizamos os subsets apropiados para ter datos operables\n",
    "cyear = hoxe.year\n",
    "cmonth = hoxe.month\n",
    "cday = hoxe.day\n",
    "\n",
    "#Fluxo condicional para comprobar se este ano se cumple que fy=cy-iy\n",
    "if cmonth >= mes:\n",
    "\n",
    "    if cday >= dia:\n",
    "\n",
    "        fyears = cyear - ano\n",
    "\n",
    "    else:\n",
    "\n",
    "        fyears = (cyear - ano) - 1\n",
    "\n",
    "else:\n",
    "\n",
    "    fyears = (cyear - ano) - 1\n",
    "\n",
    "print(f\"Tes {fyears} anos\")"
   ]
  },
  {
   "cell_type": "markdown",
   "id": "e2d94d0b-9611-4153-a941-bad5b3ca9e45",
   "metadata": {},
   "source": [
    "---"
   ]
  },
  {
   "cell_type": "raw",
   "id": "e416f013-204a-44f9-a974-86936df282ea",
   "metadata": {},
   "source": [
    "6. Dado el radio de una circunferencia calcula su perímetro y\n",
    "área."
   ]
  },
  {
   "cell_type": "code",
   "execution_count": 10,
   "id": "74991133-f2eb-41db-bd76-743b91da740e",
   "metadata": {
    "tags": []
   },
   "outputs": [
    {
     "name": "stdin",
     "output_type": "stream",
     "text": [
      "Agardando radio da circumferencia:  4.2\n"
     ]
    },
    {
     "name": "stdout",
     "output_type": "stream",
     "text": [
      "Area = 55.418 . Perímetro = 26.389\n"
     ]
    }
   ],
   "source": [
    "import math\n",
    "\n",
    "PI = math.pi\n",
    "\n",
    "r = float(input(\"Agardando radio da circumferencia: \"))\n",
    "\n",
    "print(f\"Area = {PI*(r**2):.3f} . Perímetro = {2*PI*r:.3f}\")"
   ]
  },
  {
   "cell_type": "markdown",
   "id": "5b2b7b2e-56a6-4b66-8545-7781cfbc71e2",
   "metadata": {},
   "source": [
    "---"
   ]
  },
  {
   "cell_type": "raw",
   "id": "00084438-51d0-4e68-96e3-83d168935f28",
   "metadata": {},
   "source": [
    "7. Introduzca una palabra de más de 9 letras por teclado e\n",
    "imprima:\n",
    "- las tres primeras letras\n",
    "- las tres últimas letras\n",
    "- las situadas entre la 4º y 7º posición"
   ]
  },
  {
   "cell_type": "code",
   "execution_count": 16,
   "id": "6cea1e39-2f8b-4c24-b50b-a5e16c52872d",
   "metadata": {
    "tags": []
   },
   "outputs": [
    {
     "name": "stdin",
     "output_type": "stream",
     "text": [
      "Escolla unha palabra de 9 letras:  hola\n",
      "Escolla unha palabra de 9 letras:  palabra\n",
      "Escolla unha palabra de 9 letras:  abecedarios\n"
     ]
    },
    {
     "name": "stdout",
     "output_type": "stream",
     "text": [
      "Primeiras tres letras:abe. \n",
      "Tres ultimas letras: ios. \n",
      "Cuarta a séptima: ed.\n"
     ]
    }
   ],
   "source": [
    "palabra = \".\"\n",
    "\n",
    "while len(palabra) <= 9:\n",
    "\n",
    "    '''poderiamos ter unha condicional que comprobe se a palabra ten\n",
    "    nove letras e de un output negativo'''\n",
    "    \n",
    "    palabra = input(\"Escolla unha palabra de 9 letras: \")\n",
    "\n",
    "tresPrimeiras = palabra[:3]\n",
    "tresUltimas = palabra[-3:]\n",
    "cuartaASeptima = palabra[4:6] #6 para que non amose a séptima\n",
    "\n",
    "print(f\"\"\"Primeiras tres letras:{tresPrimeiras}. \n",
    "Tres ultimas letras: {tresUltimas}. \n",
    "Cuarta a séptima: {cuartaASeptima}.\"\"\")"
   ]
  },
  {
   "cell_type": "markdown",
   "id": "01414249-5c7d-48d4-82cb-5ad2f0f090a6",
   "metadata": {},
   "source": [
    "---"
   ]
  },
  {
   "cell_type": "raw",
   "id": "548d1c8d-27b3-4fe8-989b-ed017e5e0b2d",
   "metadata": {},
   "source": [
    "8. Unha xoguetería ten moito éxito en dous dos seus produtos:\n",
    "pallasos e bonecas. Adoita facer venda por correo e a\n",
    "empresa de loxística cóbralles por peso de cada paquete así\n",
    "que deben calcular o peso dos pallasos e bonecas que sairán\n",
    "en cada paquete a demanda. Cada pallaso pesa 112 g e cada\n",
    "boneca 75 g. Escribir un programa que lea o número de\n",
    "pallasos e bonecas vendidos no último pedido e calcule o\n",
    "peso total en kg do paquete que será enviado e o prezo\n",
    "sendo a tarifa de 3,5 €/kg."
   ]
  },
  {
   "cell_type": "code",
   "execution_count": 17,
   "id": "21078bc2-558a-427e-ba2d-40bdb03b8524",
   "metadata": {
    "tags": []
   },
   "outputs": [
    {
     "name": "stdin",
     "output_type": "stream",
     "text": [
      "Numero de pallasos:  10\n",
      "Numero de bonecas:  10\n"
     ]
    },
    {
     "name": "stdout",
     "output_type": "stream",
     "text": [
      "O peso total é de: 1.87 cun prezo de: 6.54\n"
     ]
    }
   ],
   "source": [
    "pesoBoneca = 0.075\n",
    "pesoPallaso = 0.112\n",
    "prezo = 3.5\n",
    "\n",
    "nPallasos = int(input(\"Numero de pallasos: \"))\n",
    "nBonecas = int(input(\"Numero de bonecas: \"))\n",
    "\n",
    "pTpallasos = nPallasos * pesoPallaso\n",
    "pTbonecas = nBonecas * pesoBoneca\n",
    "pT = pTpallasos + pTbonecas\n",
    "\n",
    "prezoPallasos = pTpallasos * prezo\n",
    "prezoBonecas = pTbonecas * prezo\n",
    "\n",
    "prezoTotal = prezoBonecas + prezoPallasos\n",
    "\n",
    "print(f\"O peso total é de: {pT:.2f} cun prezo de: {prezoTotal:.2f}\")"
   ]
  },
  {
   "cell_type": "markdown",
   "id": "6ede9b08-aafa-4abb-b6d8-54bdbd0ca1c7",
   "metadata": {},
   "source": [
    "---"
   ]
  },
  {
   "cell_type": "markdown",
   "id": "26c3c985-9166-4b7e-a0cb-52ce042ac4d8",
   "metadata": {},
   "source": [
    "###### Feito por @XoanOuteiro"
   ]
  },
  {
   "cell_type": "code",
   "execution_count": null,
   "id": "62771f58-7d0f-4aed-a553-714943cb1f25",
   "metadata": {},
   "outputs": [],
   "source": []
  }
 ],
 "metadata": {
  "kernelspec": {
   "display_name": "Python 3 (ipykernel)",
   "language": "python",
   "name": "python3"
  },
  "language_info": {
   "codemirror_mode": {
    "name": "ipython",
    "version": 3
   },
   "file_extension": ".py",
   "mimetype": "text/x-python",
   "name": "python",
   "nbconvert_exporter": "python",
   "pygments_lexer": "ipython3",
   "version": "3.11.3"
  }
 },
 "nbformat": 4,
 "nbformat_minor": 5
}
