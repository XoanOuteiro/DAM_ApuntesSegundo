{
 "cells": [
  {
   "cell_type": "markdown",
   "id": "17478712-1eee-41fb-acde-38b0aab31c07",
   "metadata": {},
   "source": [
    "## <b> Listas, Tuplas e Diccionarios </b>"
   ]
  },
  {
   "cell_type": "raw",
   "id": "28474d8b-0975-4c72-8a60-4aae26715899",
   "metadata": {},
   "source": [
    "1. Crea unha lista de N elementos, dato que se\n",
    "pide por teclado, e a continuación enchese de\n",
    "números enteiros aleatorios entre 1 e 10.\n",
    "Posteriormente mostra a lista e o número que\n",
    "máis se repite."
   ]
  },
  {
   "cell_type": "code",
   "execution_count": 3,
   "id": "e956b996-a4ee-4163-87f5-8bd2a276877f",
   "metadata": {
    "tags": []
   },
   "outputs": [
    {
     "name": "stdin",
     "output_type": "stream",
     "text": [
      "Cantos elementos quere que teña a lista?  10\n"
     ]
    },
    {
     "name": "stdout",
     "output_type": "stream",
     "text": [
      "A súa lista é: [6, 7, 8, 10, 3, 9, 3, 3, 9, 7]\n",
      "3\n"
     ]
    }
   ],
   "source": [
    "import random\n",
    "from collections import Counter\n",
    "\n",
    "n = int(input(\"Cantos elementos quere que teña a lista? \"))\n",
    "\n",
    "mainlist = []\n",
    "\n",
    "for i in range(n):\n",
    "    \n",
    "    mainlist.append(random.randint(1,10))\n",
    "\n",
    "print(f'A súa lista é: {str(mainlist)}')\n",
    "\n",
    "c= Counter(mainlist)\n",
    "\n",
    "print(max(c, key = c.get))"
   ]
  },
  {
   "cell_type": "raw",
   "id": "928aee2e-400c-4e31-9af8-29c5c243c424",
   "metadata": {},
   "source": [
    "Sen empregar librerias:"
   ]
  },
  {
   "cell_type": "code",
   "execution_count": 4,
   "id": "cf8c1df6-f7ea-4405-87a0-6f6445030f81",
   "metadata": {
    "tags": []
   },
   "outputs": [
    {
     "name": "stdin",
     "output_type": "stream",
     "text": [
      "Cantos elementos quere que teña a lista?  10\n"
     ]
    },
    {
     "name": "stdout",
     "output_type": "stream",
     "text": [
      "A súa lista é: [7, 7, 5, 6, 8, 9, 5, 3, 8, 1]\n",
      "O valor mais repetido for 8 con 2 repeticións.\n"
     ]
    }
   ],
   "source": [
    "import random\n",
    "\n",
    "n = int(input(\"Cantos elementos quere que teña a lista? \"))\n",
    "\n",
    "mainlist = []\n",
    "\n",
    "for i in range(n):\n",
    "    \n",
    "    mainlist.append(random.randint(1,10))\n",
    "\n",
    "print(f'A súa lista é: {str(mainlist)}')\n",
    "\n",
    "#construct a list of individual values and a list of repetitions of that lists length\n",
    "\n",
    "unreplist = []\n",
    "topclist = [0,0] #value - count\n",
    "\n",
    "for j in mainlist:\n",
    "    if j not in unreplist:\n",
    "        unreplist.append(j) # we have a list containing all simple values\n",
    "\n",
    "for k in unreplist:\n",
    "    \n",
    "    counter = 0\n",
    "\n",
    "    for kk in mainlist:\n",
    "        if kk == k:\n",
    "            counter += 1\n",
    "\n",
    "    if k != topclist[0] and counter >= topclist[1]:\n",
    "        topclist[0] = k\n",
    "        topclist[1] = counter\n",
    "\n",
    "print(f'O valor mais repetido for {topclist[0]} con {topclist[1]} repeticións.')"
   ]
  },
  {
   "cell_type": "markdown",
   "id": "2be21a8c-a459-4382-8241-2775a14d1f8e",
   "metadata": {},
   "source": [
    "---"
   ]
  },
  {
   "cell_type": "raw",
   "id": "98553c40-a5dd-4138-a701-72c0a179f1cd",
   "metadata": {},
   "source": [
    "2. Tomando como base a xeración de unha lista de\n",
    "tamaño N de números aleatorios entre 1 e 10,\n",
    "xera un menú que:\n",
    "1. Ordene a lista e mostre por pantalla\n",
    "2. Borre un elemento solicitado por teclado\n",
    "3. Engada un elemento aleatorio ao final\n",
    "4. Tome os elementos que estean entre N/5 e\n",
    "N/3 posicións (división enteira)"
   ]
  },
  {
   "cell_type": "code",
   "execution_count": 9,
   "id": "02792150-fac1-4c75-896a-a8874725798d",
   "metadata": {
    "tags": []
   },
   "outputs": [
    {
     "name": "stdin",
     "output_type": "stream",
     "text": [
      "Cantos elementos quere que teña a lista?  12\n"
     ]
    },
    {
     "name": "stdout",
     "output_type": "stream",
     "text": [
      "A súa lista é: [2, 6, 8, 1, 2, 8, 8, 4, 6, 10, 7, 4]\n"
     ]
    },
    {
     "name": "stdin",
     "output_type": "stream",
     "text": [
      "Indique que quere facer:\n",
      "1. Ordene a lista e mostre por pantalla\n",
      "2. Borre un elemento solicitado por teclado\n",
      "3. Engada un elemento aleatorio ao final\n",
      "4. Tome os elementos que estean entre N/5 e\n",
      "N/3 posicións (división enteira) \n",
      " 1\n"
     ]
    },
    {
     "name": "stdout",
     "output_type": "stream",
     "text": [
      "A sua lista ordenada é: [1, 2, 2, 4, 4, 6, 6, 7, 8, 8, 8, 10]\n"
     ]
    }
   ],
   "source": [
    "import random\n",
    "\n",
    "n = int(input(\"Cantos elementos quere que teña a lista? \"))\n",
    "\n",
    "mainlist = []\n",
    "\n",
    "for i in range(n):\n",
    "    \n",
    "    mainlist.append(random.randint(1,10))\n",
    "\n",
    "print(f'A súa lista é: {str(mainlist)}')\n",
    "\n",
    "opt = int(input(\"\"\"Indique que quere facer:\n",
    "1. Ordene a lista e mostre por pantalla\n",
    "2. Borre un elemento solicitado por teclado\n",
    "3. Engada un elemento aleatorio ao final\n",
    "4. Tome os elementos que estean entre N/5 e\n",
    "N/3 posicións (división enteira) \\n\"\"\"))\n",
    "\n",
    "if opt == 1:\n",
    "    mainlist.sort()\n",
    "\n",
    "    print(f'A sua lista ordenada é: {mainlist}')\n",
    "\n",
    "elif opt == 2:\n",
    "\n",
    "    pos = int(input(\"Indique a posicion 0 a n-1 do elemento que vai a eliminar: \"))\n",
    "    print(mainlist)\n",
    "    mainlist.pop(pos)\n",
    "    print(f'Lista sen elemento indicado: {mainlist}')\n",
    "\n",
    "elif opt == 3:\n",
    "\n",
    "    mainlist.append(random.randint(1,50))\n",
    "\n",
    "    print(f'A súa lista cun elemento aleatorio ao final é: {mainlist}')\n",
    "\n",
    "elif opt == 4:\n",
    "\n",
    "    print(f'Os elementos entre a terceira e quinta posición son: {mainlist[2:5]}')\n",
    "\n",
    "else:\n",
    "\n",
    "    print(\"Opcion non valida\")"
   ]
  },
  {
   "cell_type": "markdown",
   "id": "2967aac8-7f00-45c9-b4cf-13cf156e3744",
   "metadata": {},
   "source": [
    "---"
   ]
  },
  {
   "cell_type": "raw",
   "id": "8dcc4d54-0470-41c0-bb1b-c35d541ddecb",
   "metadata": {},
   "source": [
    "3. Almacenar en dúas tuplas os nomes de 8\n",
    "empregados ou empregadas dunha empresa e dos\n",
    "seus salarios, respectivamente. A continuación:\n",
    "1. Mostrar a tupla dos nomes e a tupla dos\n",
    "salarios.\n",
    "2. Mostrar o nome dos empregados con maior e\n",
    "do menor salario."
   ]
  },
  {
   "cell_type": "code",
   "execution_count": 5,
   "id": "c88a90ad-7154-40a7-ab94-b3616d15865c",
   "metadata": {
    "tags": []
   },
   "outputs": [
    {
     "name": "stdout",
     "output_type": "stream",
     "text": [
      "['Antonio', 'Felicia', 'Ana', 'Alejandro', 'Salome', 'Juan', 'Gerardo', 'Maria']\n",
      "[15000, 23000, 19000, 30000, 17000, 18500, 20000, 23100]\n",
      "El empleado con mayor salario Alejandro y gana 30000\n",
      "El empleado con mayor salario Antonio y gana 15000\n"
     ]
    }
   ],
   "source": [
    "tnomes = [\"Antonio\",\"Felicia\",\"Ana\",\"Alejandro\",\"Salome\",\"Juan\",\"Gerardo\",\"Maria\"]\n",
    "tsalarios = [15000,23000,19000,30000,17000,18500,20000,23100]\n",
    "\n",
    "print(str(tnomes))\n",
    "print(str(tsalarios))\n",
    "\n",
    "\n",
    "\n",
    "mayor = 0\n",
    "pos = 0\n",
    "\n",
    "for i, salario in enumerate(tsalarios):\n",
    "    if salario > mayor:\n",
    "        mayor = salario\n",
    "        pos = i\n",
    "\n",
    "print(f'El empleado con mayor salario {tnomes[pos]} y gana {mayor}')\n",
    "    \n",
    "\n",
    "menor = tsalarios[0]\n",
    "pos = 0\n",
    "\n",
    "for i, salario in enumerate(tsalarios):\n",
    "    if salario < menor:\n",
    "        mayor = salario\n",
    "        pos = i\n",
    "\n",
    "print(f'El empleado con mayor salario {tnomes[pos]} y gana {menor}')"
   ]
  },
  {
   "cell_type": "markdown",
   "id": "0ff634b1-010c-4be2-b8b1-345fddec3f99",
   "metadata": {},
   "source": [
    "---"
   ]
  },
  {
   "cell_type": "raw",
   "id": "be4f876a-ed6b-43b8-829e-cf080074d88c",
   "metadata": {},
   "source": [
    "4. Codifica unha función que reciba unha cantidade de N\n",
    "iteracións solicitadas por teclado onde cada una\n",
    "representen a suma dunha tirada de 2 dados.\n",
    "A continuación, grava os resultados nun dicionario\n",
    "da forma o seguinte:\n",
    "Resultado = {‘Dos’: 3, ‘Tres’: 1, …,’Doce’:3} -CORRECCION: As claves son enteiros-\n",
    "Onde 3, 1 e 4 representen o número de veces que sae\n",
    "cada valor. Mostrar por pantalla."
   ]
  },
  {
   "cell_type": "code",
   "execution_count": 6,
   "id": "6c207d4c-851f-489e-8f70-a84b4b6e6d52",
   "metadata": {
    "tags": []
   },
   "outputs": [
    {
     "name": "stdin",
     "output_type": "stream",
     "text": [
      "Introduza a cantidade de tiradas a realizar:  6\n"
     ]
    },
    {
     "name": "stdout",
     "output_type": "stream",
     "text": [
      "{2: 1, 3: 1, 4: 1, 5: 0, 6: 1, 7: 0, 8: 0, 9: 0, 10: 2, 11: 0, 12: 0}\n"
     ]
    }
   ],
   "source": [
    "import random\n",
    "\n",
    "dict = {2:0,\n",
    "        3:0,\n",
    "        4:0,\n",
    "        5:0,\n",
    "        6:0,\n",
    "        7:0,\n",
    "        8:0,\n",
    "        9:0,\n",
    "        10:0,\n",
    "        11:0,\n",
    "        12:0}\n",
    "\n",
    "nt = int(input(\"Introduza a cantidade de tiradas a realizar: \"))\n",
    "\n",
    "for i in range(nt):\n",
    "    \n",
    "    rn1 = random.randint(2,12)\n",
    "    dict[rn1] += 1\n",
    "\n",
    "\n",
    "print(dict)"
   ]
  },
  {
   "cell_type": "markdown",
   "id": "c7840a0c-46d6-4544-9505-203498c46242",
   "metadata": {},
   "source": [
    "---"
   ]
  },
  {
   "cell_type": "raw",
   "id": "fdfdedf1-e51f-428e-83f6-23ae219d1796",
   "metadata": {
    "tags": []
   },
   "source": [
    "5. Constrúe unha dicionario que almacene\n",
    "as temperaturas das cidades galegas de\n",
    "Vigo, A Coruña, Ourense, Pontevedra,\n",
    "Lugo e Ferrol.\n",
    "A continuación, solicita por teclado una\n",
    "cidad e modificar o seu valor de\n",
    "temperatura"
   ]
  },
  {
   "cell_type": "code",
   "execution_count": 8,
   "id": "1c6696f9-6828-45c2-aef3-d2bbb8a5c75d",
   "metadata": {
    "tags": []
   },
   "outputs": [
    {
     "name": "stdin",
     "output_type": "stream",
     "text": [
      "Indique que cidade vai actualizar:  A Coruña\n",
      "Indique unha nova temperatura:  24.5\n"
     ]
    },
    {
     "name": "stdout",
     "output_type": "stream",
     "text": [
      "{'Vigo': 0.0, 'A Coruña': 24.5, 'Ourense': 0.0, 'Pontevedra': 0.0, 'Lugo': 0.0, 'Ferrol': 0.0}\n"
     ]
    }
   ],
   "source": [
    "d = {\"Vigo\":0.0,\"A Coruña\":0.0,\"Ourense\":0.0,\"Pontevedra\":0.0,\"Lugo\":0.0,\"Ferrol\":0.0}\n",
    "\n",
    "cidade = str(input(\"Indique que cidade vai actualizar: \"))\n",
    "\n",
    "if cidade in d:\n",
    "\n",
    "    t = float(input(\"Indique unha nova temperatura: \"))\n",
    "\n",
    "    d[cidade] = t\n",
    "\n",
    "    print(d)\n",
    "\n",
    "else:\n",
    "    print(\"Esa cidade non existe.\")"
   ]
  },
  {
   "cell_type": "markdown",
   "id": "fb19376b-7ad5-4341-9535-c80c56fe0018",
   "metadata": {},
   "source": [
    "---"
   ]
  },
  {
   "cell_type": "markdown",
   "id": "28a144ec-9cfa-4e1d-92ae-3d2976308ce8",
   "metadata": {},
   "source": [
    "###### Feito por @XoanOuteiro"
   ]
  },
  {
   "cell_type": "code",
   "execution_count": null,
   "id": "f22d6748-0451-4de1-aefe-817dae651a3e",
   "metadata": {},
   "outputs": [],
   "source": []
  }
 ],
 "metadata": {
  "kernelspec": {
   "display_name": "Python 3 (ipykernel)",
   "language": "python",
   "name": "python3"
  },
  "language_info": {
   "codemirror_mode": {
    "name": "ipython",
    "version": 3
   },
   "file_extension": ".py",
   "mimetype": "text/x-python",
   "name": "python",
   "nbconvert_exporter": "python",
   "pygments_lexer": "ipython3",
   "version": "3.11.3"
  }
 },
 "nbformat": 4,
 "nbformat_minor": 5
}
