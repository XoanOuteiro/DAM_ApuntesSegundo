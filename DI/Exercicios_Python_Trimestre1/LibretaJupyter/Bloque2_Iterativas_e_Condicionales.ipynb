{
 "cells": [
  {
   "cell_type": "markdown",
   "id": "be13a883-2f03-46d9-be08-a8d1f75e38fa",
   "metadata": {},
   "source": [
    "## <b>Bloque 2 de exercicios Python</b>"
   ]
  },
  {
   "cell_type": "raw",
   "id": "4bfc6841-df4b-418d-a743-86622202cdec",
   "metadata": {},
   "source": [
    "1. A conxetura de Collatz indica que calquera\n",
    "número natural pode transformarse en 1\n",
    "aplicando os pasos seguintes: si é par, dividir por\n",
    "2, se é impar multiplicar por 3 e sumarlle 1.\n",
    "Codifica un programa que pedindo un número\n",
    "mostre toda a sucesión de números resultantes\n",
    "ata convertilo en 1."
   ]
  },
  {
   "cell_type": "code",
   "execution_count": 3,
   "id": "c52d7050-76cd-4b71-b5a7-846abc3730ba",
   "metadata": {
    "tags": []
   },
   "outputs": [
    {
     "name": "stdin",
     "output_type": "stream",
     "text": [
      "Introduza un número positivo enteiro: 9\n"
     ]
    },
    {
     "name": "stdout",
     "output_type": "stream",
     "text": [
      "28 14.0 7.0 22.0 11.0 34.0 17.0 52.0 26.0 13.0 40.0 20.0 10.0 5.0 16.0 8.0 4.0 2.0 1.0 "
     ]
    }
   ],
   "source": [
    "num = -1\n",
    "\n",
    "while num <= 0: #solicitude de datos\n",
    "    \n",
    "    num = int(input(\"Introduza un número positivo enteiro:\"))\n",
    "\n",
    "while num > 1: #algoritmo da conxetura\n",
    "\n",
    "    if num%2 == 0:\n",
    "\n",
    "        num /=2\n",
    "\n",
    "    else:\n",
    "\n",
    "        num *= 3\n",
    "        num += 1\n",
    "\n",
    "    print(num,end=\" \")  "
   ]
  },
  {
   "cell_type": "markdown",
   "id": "9d3eae07-7079-42ea-8e29-ad0f1028193d",
   "metadata": {},
   "source": [
    "---"
   ]
  },
  {
   "cell_type": "raw",
   "id": "d7d8fd91-a8d8-474d-bc43-e1d8e8649a35",
   "metadata": {},
   "source": [
    "2. Mastermind é un xogo que consiste en adiviñar un número.\n",
    "Codifica un programa que xenere un número entero\n",
    "aleatorio entre 1 e 100. A continuación iranos pedindo que\n",
    "adiviñemos o número. A axuda do programa será que si\n",
    "erramos diranos que o número que indicamos é maior ou\n",
    "menor que o que número aleatorio. Deberás incluir o\n",
    "número de intentos ao final da execución do programa.\n",
    "Ademáis, propoñer o programa para dous xogadores, e\n",
    "quen é o vencedor."
   ]
  },
  {
   "cell_type": "code",
   "execution_count": 6,
   "id": "2e7d82f4-2b3d-4b2c-8f26-54479316786a",
   "metadata": {
    "tags": []
   },
   "outputs": [
    {
     "name": "stdout",
     "output_type": "stream",
     "text": [
      "\n",
      " >Turno do xogador 1\n"
     ]
    },
    {
     "name": "stdin",
     "output_type": "stream",
     "text": [
      "Introduza un número entre 1 e 100:  50\n"
     ]
    },
    {
     "name": "stdout",
     "output_type": "stream",
     "text": [
      "O numero e menor\n"
     ]
    },
    {
     "name": "stdin",
     "output_type": "stream",
     "text": [
      "Introduza un número entre 1 e 100:  30\n"
     ]
    },
    {
     "name": "stdout",
     "output_type": "stream",
     "text": [
      "O número e maior\n"
     ]
    },
    {
     "name": "stdin",
     "output_type": "stream",
     "text": [
      "Introduza un número entre 1 e 100:  40\n"
     ]
    },
    {
     "name": "stdout",
     "output_type": "stream",
     "text": [
      "O numero e menor\n"
     ]
    },
    {
     "name": "stdin",
     "output_type": "stream",
     "text": [
      "Introduza un número entre 1 e 100:  35\n"
     ]
    },
    {
     "name": "stdout",
     "output_type": "stream",
     "text": [
      "Correcto. Tiveches 3 intentos\n",
      "\n",
      " >Turno do xogador 2\n"
     ]
    },
    {
     "name": "stdin",
     "output_type": "stream",
     "text": [
      "Introduza un número entre 1 e 100:  50\n"
     ]
    },
    {
     "name": "stdout",
     "output_type": "stream",
     "text": [
      "O numero e menor\n"
     ]
    },
    {
     "name": "stdin",
     "output_type": "stream",
     "text": [
      "Introduza un número entre 1 e 100:  30\n"
     ]
    },
    {
     "name": "stdout",
     "output_type": "stream",
     "text": [
      "O numero e menor\n"
     ]
    },
    {
     "name": "stdin",
     "output_type": "stream",
     "text": [
      "Introduza un número entre 1 e 100:  20\n"
     ]
    },
    {
     "name": "stdout",
     "output_type": "stream",
     "text": [
      "O numero e menor\n"
     ]
    },
    {
     "name": "stdin",
     "output_type": "stream",
     "text": [
      "Introduza un número entre 1 e 100:  10\n"
     ]
    },
    {
     "name": "stdout",
     "output_type": "stream",
     "text": [
      "O numero e menor\n"
     ]
    },
    {
     "name": "stdin",
     "output_type": "stream",
     "text": [
      "Introduza un número entre 1 e 100:  5\n"
     ]
    },
    {
     "name": "stdout",
     "output_type": "stream",
     "text": [
      "O número e maior\n"
     ]
    },
    {
     "name": "stdin",
     "output_type": "stream",
     "text": [
      "Introduza un número entre 1 e 100:  6\n"
     ]
    },
    {
     "name": "stdout",
     "output_type": "stream",
     "text": [
      "Correcto. Tiveches 5 intentos\n",
      ">>>FIN: O xogador 1 tivo 3 e o 2 tivo 5\n",
      "Gañou o xogador 1\n"
     ]
    }
   ],
   "source": [
    "import random\n",
    "\n",
    "n = 0\n",
    "intentos = [0,0]\n",
    "n_xog = -1\n",
    "\n",
    "for i in range(2):\n",
    "\n",
    "    print(f\"\\n >Turno do xogador {i+1}\")\n",
    "\n",
    "    n = random.randint(1,100)\n",
    "\n",
    "    while n_xog != n:\n",
    "\n",
    "        n_xog = -1  #reseteo de valor\n",
    "\n",
    "        while n_xog<1 or n_xog >100: #solicitamos ao usuario\n",
    "\n",
    "            n_xog = int(input(\"Introduza un número entre 1 e 100: \"))\n",
    "\n",
    "            if n_xog<1 or n_xog>100:\n",
    "\n",
    "                print(\"Valor non válido.\")\n",
    "\n",
    "        if n > n_xog:\n",
    "\n",
    "            print(\"O número e maior\")\n",
    "            intentos[i] += 1\n",
    "\n",
    "        elif n < n_xog:\n",
    "\n",
    "            print(\"O numero e menor\")\n",
    "            intentos[i] += 1\n",
    "        \n",
    "        else:\n",
    "\n",
    "            print(f\"Correcto. Tiveches {intentos[i]} intentos\")\n",
    "\n",
    "\n",
    "print(f\">>>FIN: O xogador 1 tivo {intentos[0]} e o 2 tivo {intentos[1]}\")\n",
    "\n",
    "if intentos[0] > intentos[1]:\n",
    "    \n",
    "    print(\"Ganou o xogador 2\")\n",
    "\n",
    "elif intentos[0] == intentos [1]:\n",
    "\n",
    "    print(\"Empate\")\n",
    "\n",
    "else:\n",
    "\n",
    "    print(\"Gañou o xogador 1\")"
   ]
  },
  {
   "cell_type": "markdown",
   "id": "5f03501e-1e02-4f70-892f-46ed236e0bc0",
   "metadata": {
    "tags": []
   },
   "source": [
    "---"
   ]
  },
  {
   "cell_type": "raw",
   "id": "29fdb3c3-770e-4bc0-8ea0-0a382991ec3c",
   "metadata": {},
   "source": [
    "3. Codificar un programa que nos pida un valor de temperatura é unha\n",
    "escala, por exemplo, 273 grados en escala Kelvin e posteriormente\n",
    "transforme dita temperatura nas outras escalas coñecidas, neste caso\n",
    "sería en Fahrenheit e Graos centígrados Centigrados. "
   ]
  },
  {
   "cell_type": "code",
   "execution_count": null,
   "id": "ccd9f7a9-1273-447f-a3ae-6c832613f483",
   "metadata": {},
   "outputs": [],
   "source": []
  },
  {
   "cell_type": "markdown",
   "id": "bb8bab2f-ae70-4e35-8fa9-01617185c1d0",
   "metadata": {},
   "source": [
    "---"
   ]
  },
  {
   "cell_type": "raw",
   "id": "6e8f5262-6360-4879-8531-4faf638e1c27",
   "metadata": {},
   "source": [
    "4.Codifica un programa que simule unha partida ao 7 e medio coa\n",
    "baralla española entre dous xogadores. Para elo o programa\n",
    "sacara para cada xogador un número aleatorio entre 1 e 10 tendo\n",
    "en conta que o 8, 9 e 10 simularán a sota, cabalo e rei,\n",
    "respectivamente que no xogo do 7 e medio valen medio punto.\n",
    "Cada xogador pódese plantar cando queira e gañará o que máis\n",
    "se aproxime por debaixo ao 7 e medio.\n",
    "Por exemplo:\n",
    "O xogador A saca o 4 e 2 e a sota (8) ten 6 e medio e plántase.\n",
    "O xogador B saca o 4 e 5 e xa perde porque pasou de 7 e medio.\n",
    "Gaña o xogador A.\n",
    "Cada partida finalizada pregunta se queremos seguir ou deixar o\n",
    "xogo."
   ]
  },
  {
   "cell_type": "code",
   "execution_count": 3,
   "id": "bfc46b9b-d75f-49b4-8288-3d29768f9c88",
   "metadata": {},
   "outputs": [
    {
     "name": "stdout",
     "output_type": "stream",
     "text": [
      "Vai a xogar o xogador 1: \n"
     ]
    },
    {
     "name": "stdin",
     "output_type": "stream",
     "text": [
      "Queres seguir xogando? (Sí->1 || Non->Outro) 1\n"
     ]
    },
    {
     "name": "stdout",
     "output_type": "stream",
     "text": [
      "1\n",
      "Tes 0.5 puntos\n"
     ]
    },
    {
     "name": "stdin",
     "output_type": "stream",
     "text": [
      "Queres seguir xogando? (Sí->1 || Non->Outro) 2\n"
     ]
    },
    {
     "name": "stdout",
     "output_type": "stream",
     "text": [
      "2\n",
      "Plantácheste con 0.5 puntos\n",
      "Vai a xogar o xogador 2: \n"
     ]
    },
    {
     "name": "stdin",
     "output_type": "stream",
     "text": [
      "Queres seguir xogando? (Sí->1 || Non->Outro) 1\n"
     ]
    },
    {
     "name": "stdout",
     "output_type": "stream",
     "text": [
      "Tes 2 puntos\n"
     ]
    },
    {
     "name": "stdin",
     "output_type": "stream",
     "text": [
      "Queres seguir xogando? (Sí->1 || Non->Outro) 1\n"
     ]
    },
    {
     "name": "stdout",
     "output_type": "stream",
     "text": [
      "Tes 2.5 puntos\n"
     ]
    },
    {
     "name": "stdin",
     "output_type": "stream",
     "text": [
      "Queres seguir xogando? (Sí->1 || Non->Outro) 2\n"
     ]
    },
    {
     "name": "stdout",
     "output_type": "stream",
     "text": [
      "Plantácheste con 2.5 puntos\n",
      "Gañou o xogador2.\n"
     ]
    }
   ],
   "source": [
    "import random\n",
    "num=0\n",
    "xogar=1\n",
    "puntos1=0\n",
    "puntos2=0\n",
    "\n",
    "print(\"Vai a xogar o xogador 1: \")\n",
    "\n",
    "while xogar==1 and puntos1<=7.5:\n",
    "\n",
    "    xogar=int(input(\"Queres seguir xogando? (Sí->1 || Non->Outro)\"))\n",
    "\n",
    "    print(xogar)\n",
    "\n",
    "    if xogar==1:\n",
    "\n",
    "        num=random.randint(1,10)\n",
    "\n",
    "        if num==8 or num==9 or num==10:\n",
    "\n",
    "            puntos1+=0.5\n",
    "\n",
    "        else:\n",
    "\n",
    "            puntos1+=num\n",
    "\n",
    "        print(f\"Tes {puntos1} puntos\")\n",
    "\n",
    "    else:\n",
    "\n",
    "        print(f\"Plantácheste con {puntos1} puntos\")\n",
    "\n",
    "    if puntos1>7.5:\n",
    "\n",
    "        print(f\"Perdiches. Sumaches {puntos1} puntos\")\n",
    "        \n",
    "    \n",
    "num=0\n",
    "xogar=1\n",
    "\n",
    "print(\"Vai a xogar o xogador 2: \")\n",
    "\n",
    "while xogar==1 and puntos2<=7.5:\n",
    "\n",
    "    xogar=int(input(\"Queres seguir xogando? (Sí->1 || Non->Outro)\"))\n",
    "\n",
    "    if xogar==1:\n",
    "\n",
    "        num=random.randint(1,10)\n",
    "\n",
    "        if num==8 or num==9 or num==10:\n",
    "\n",
    "            puntos2+=0.5\n",
    "\n",
    "        else:\n",
    "\n",
    "            puntos2+=num\n",
    "\n",
    "        print(f\"Tes {puntos2} puntos\")\n",
    "\n",
    "    else:\n",
    "\n",
    "        print(f\"Plantácheste con {puntos2} puntos\")\n",
    "\n",
    "    if puntos2>7.5:\n",
    "        \n",
    "        print(f\"Perdiches. Sumaches {puntos2} puntos\")\n",
    "        \n",
    "\n",
    "if puntos1>puntos2 and puntos1<7.5:\n",
    "\n",
    "    print(\"Gañou o xogador1.\")\n",
    "\n",
    "elif puntos2>puntos1 and puntos2<7.5:\n",
    "\n",
    "    print(\"Gañou o xogador2.\")\n",
    "\n",
    "else:\n",
    "    \n",
    "    print(\"Non gañou ninguén.\")"
   ]
  },
  {
   "cell_type": "markdown",
   "id": "a2dfac5c-5580-4fc4-9f01-2199d82a18ff",
   "metadata": {},
   "source": [
    "---"
   ]
  },
  {
   "cell_type": "raw",
   "id": "0fad21f7-c224-4cb3-9476-3cc5b6f804fa",
   "metadata": {},
   "source": [
    "5.  Codifica un programa que permita calcular o\n",
    "factorial dun número introducido por teclado. O\n",
    "factorial dun número calcúlase da forma seguinte:\n",
    "n·(n-1)·(n-2)·....·1\n",
    "Tendo en conta o seguinte:\n",
    "Sé o número introducido e 0 o factorial é sempre 1.\n",
    "Se o número introducido é negativo ou decimal\n",
    "indícase mensaxe de erro ao usuario."
   ]
  },
  {
   "cell_type": "code",
   "execution_count": 5,
   "id": "ec26c94a-c676-4eda-b54a-feaf626d8154",
   "metadata": {},
   "outputs": [
    {
     "name": "stdin",
     "output_type": "stream",
     "text": [
      "Introduza un número: 5\n"
     ]
    },
    {
     "name": "stdout",
     "output_type": "stream",
     "text": [
      "5! = 120\n"
     ]
    }
   ],
   "source": [
    "num = input(\"Introduza un número:\")\n",
    "fact = 1\n",
    "\n",
    "if num.isdigit():\n",
    "\n",
    "    if num == 0:\n",
    "\n",
    "        print(\"0! = 1\")\n",
    "\n",
    "    else:\n",
    "        for i in range(1,int(num) + 1):\n",
    "            \n",
    "            fact = fact*i\n",
    "\n",
    "        print(f'{num}! = {fact}')\n",
    "\n",
    "else:\n",
    "\n",
    "    print(\"Error: O valor non pode ser decimal nin negativo\")"
   ]
  },
  {
   "cell_type": "markdown",
   "id": "8bc4e4ba-210c-4730-a131-9f158958cb37",
   "metadata": {},
   "source": [
    "---"
   ]
  },
  {
   "cell_type": "raw",
   "id": "396ecb4a-a715-4c67-9c75-8679a6fdd80e",
   "metadata": {},
   "source": [
    "6. Algoritmo de Luhn.- Una tarjeta de crédito, o una tarjeta SIM, si suma de la reversa de los números pares x\n",
    "2 con la reversa de los números impares es un número acabado en 0. Ejemplo:\n",
    "- Número de ejemplo: 4 9 9 2 7 3 9 8 7 1 6\n",
    "- Se multiplica por 2 los dígitos que ocupan las posiciones pares empezando por el final:\n",
    " (1×2) = 2, (8×2) = 16, (3×2) = 6, (2×2) = 4, (9×2) = 18\n",
    "- Se suman los dígitos que ocupan las posiciones impares con los dígitos de los productos obtenidos:\n",
    "6 + (2) + 7 + (1+6) + 9 + (6) + 7 + (4) + 9 + (1+8) + 4 = 70.\n",
    "(1+6) es por la multiplicación de 8x2 y (1+8) es por la multiplicación de 9x2 del primer punto\n",
    "- Al ser 70, acabada en 0, es válido: 70 mod 10 = 0"
   ]
  },
  {
   "cell_type": "code",
   "execution_count": 4,
   "id": "1d67a563-7497-40f8-bf86-214d527e7a85",
   "metadata": {},
   "outputs": [
    {
     "name": "stdin",
     "output_type": "stream",
     "text": [
      "Numero da tarxeta:  49927398716\n"
     ]
    },
    {
     "name": "stdout",
     "output_type": "stream",
     "text": [
      "61789372994\n",
      "Resultado do algoritmo de Luhn 70\n",
      "A tarxeta é válida\n"
     ]
    }
   ],
   "source": [
    "numero = input(\"Numero da tarxeta: \")\n",
    "\n",
    "lonxitude = len(numero)\n",
    "\n",
    "numero_invertido = numero[::-1]\n",
    "\n",
    "print(numero_invertido)\n",
    "\n",
    "i=0\n",
    "resultado=0\n",
    "\n",
    "while i<lonxitude:\n",
    "\n",
    "    if i%2==0:\n",
    "\n",
    "        resultado+=int(numero_invertido[i])\n",
    "\n",
    "    else:\n",
    "\n",
    "        numpar = int(numero_invertido[i])*2\n",
    "\n",
    "        if numpar>9:\n",
    "\n",
    "            resultado+=numpar//10+numpar%10\n",
    "\n",
    "        else:\n",
    "\n",
    "            resultado+=numpar\n",
    "\n",
    "    i+=1\n",
    "\n",
    "print(\"Resultado do algoritmo de Luhn\", resultado)\n",
    "\n",
    "if resultado%10==0:\n",
    "\n",
    "    print(\"A tarxeta é válida\")\n",
    "\n",
    "else:\n",
    "\n",
    "    print(\"A tarxeta non é válida\")"
   ]
  },
  {
   "cell_type": "markdown",
   "id": "72f68cec-05b1-4b55-be48-d8fc25f8cc03",
   "metadata": {},
   "source": [
    "---"
   ]
  },
  {
   "cell_type": "raw",
   "id": "245d9f69-8938-40f1-b78b-4430a16e2328",
   "metadata": {},
   "source": [
    "7. Generador de patrones con *\n",
    "Crea un programa que genere un patrón simple, como un triángulo de\n",
    "asteriscos, cuadrado o un rectángulo, basado en la elección del usuario."
   ]
  },
  {
   "cell_type": "code",
   "execution_count": 7,
   "id": "b494821b-59e7-42cc-ab3a-bd3fae19aab2",
   "metadata": {
    "tags": []
   },
   "outputs": [
    {
     "name": "stdin",
     "output_type": "stream",
     "text": [
      "Numero da tarxeta:  49927398716\n"
     ]
    },
    {
     "name": "stdout",
     "output_type": "stream",
     "text": [
      "61789372994\n",
      "Resultado do algoritmo de Luhn 70\n",
      "A tarxeta é válida\n"
     ]
    }
   ],
   "source": []
  },
  {
   "cell_type": "markdown",
   "id": "bd5fd295-4755-4d0d-b59e-43919a956889",
   "metadata": {},
   "source": [
    "---"
   ]
  },
  {
   "cell_type": "raw",
   "id": "3fa127c5-dfda-4684-b667-6c8a2300d72e",
   "metadata": {},
   "source": [
    "8. Contador de vocales\n",
    "Escribe un programa que cuente cuántas vocales (mayúsculas y minúsculas)\n",
    "hay en una cadena de texto ingresada por el usuario."
   ]
  },
  {
   "cell_type": "code",
   "execution_count": 7,
   "id": "d6fae0a0-7f83-4d58-a584-af6db3de46f5",
   "metadata": {},
   "outputs": [
    {
     "name": "stdin",
     "output_type": "stream",
     "text": [
      "Introduza unha palabra:  Melocotón\n"
     ]
    },
    {
     "name": "stdout",
     "output_type": "stream",
     "text": [
      "Melocotón ten 4 vogais.\n"
     ]
    }
   ],
   "source": [
    "vogais = ['A','E','I','O','U','a','e','i','o','u','á','é','í','ó','ú']\n",
    "nvogais = 0\n",
    "\n",
    "palabra = input(\"Introduza unha palabra: \")\n",
    "\n",
    "for i in palabra:\n",
    "    if i in vogais:\n",
    "        nvogais += 1\n",
    "\n",
    "print(f'{palabra} ten {nvogais} vogais.')"
   ]
  },
  {
   "cell_type": "markdown",
   "id": "5add3651-0f79-4a6b-b816-ae1cd2317831",
   "metadata": {},
   "source": [
    "---"
   ]
  },
  {
   "cell_type": "markdown",
   "id": "61667e9f-eb4f-4cf3-a377-d1fda94ad5e4",
   "metadata": {},
   "source": [
    "###### Feito por @XoanOuteiro"
   ]
  },
  {
   "cell_type": "code",
   "execution_count": null,
   "id": "496c571e-e710-4b75-be9a-7f02c8d02097",
   "metadata": {},
   "outputs": [],
   "source": []
  }
 ],
 "metadata": {
  "kernelspec": {
   "display_name": "Python 3 (ipykernel)",
   "language": "python",
   "name": "python3"
  },
  "language_info": {
   "codemirror_mode": {
    "name": "ipython",
    "version": 3
   },
   "file_extension": ".py",
   "mimetype": "text/x-python",
   "name": "python",
   "nbconvert_exporter": "python",
   "pygments_lexer": "ipython3",
   "version": "3.11.3"
  }
 },
 "nbformat": 4,
 "nbformat_minor": 5
}
